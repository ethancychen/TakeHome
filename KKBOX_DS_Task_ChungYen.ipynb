{
 "cells": [
  {
   "cell_type": "markdown",
   "metadata": {},
   "source": [
    "# 主題：電影上映初期評分 VS 長期評分\n",
    "\n",
    "--------\n",
    "\n",
    "`(海水有退的話)海水退了就知道誰沒穿褲子，那怎麼樣的情況才會海水退掉？`\n",
    "\n",
    "\n",
    ">IMDb有設立一個「TOP 250」（史上250大佳片）的排行榜，不少電影愛好者，想看過往未看的佳片，都會不時來逛逛。...這幾年台灣的片商、代理商，為了宣傳，只要美國先上映推出，台灣較晚上映的電影，如果該電影在IMDb和爛番茄上評價高分，都會被用來當數據行銷。([IMDb如何告訴你電影好不好看？](https://edwardmovieclub.com/imdb%E5%A6%82%E4%BD%95%E5%91%8A%E8%A8%B4%E4%BD%A0%E9%9B%BB%E5%BD%B1%E5%A5%BD%E4%B8%8D%E5%A5%BD%E7%9C%8B%EF%BC%9F/))\n",
    "\n",
    "許多人進戲院、租借片子前，會先看電影評分才決定要不要觀看，想當然爾地吸引片商或相關利益團體，在電影上映初期，進攻討論看板和電影評分網以的營造熱度。刻意營造風向熱度當然不是好事，過去討論多集中在辨認假帳號，例如：[Re: \\[討論\\] 說52沒有工讀生帶風向...我不相信!](https://www.ptt.cc/bbs/movie/M.1485513866.A.728.html)\n",
    "，以分析異常的個別使用者評分來屏蔽假帳號，例如評分次數、發表評分時間等等。\n",
    "\n",
    "但道高一尺魔高一丈，片商隨時都能雇用工讀生辦假帳號洗評分，或是購買已經使用多年的帳號來騙過這樣的判斷規則。本次分析改嘗試以電影本身的角度切入，**我們定義「發行初期」為電影發行後的14天內，觀察發行初期評分和發行初期過後評分分佈有所差異的電影，究竟怎樣的電影比較可能出現評分分佈不同？**\n",
    "\n",
    "### 分析目標：以電影基本資料(類型、發行公司等)，預測其發行14天內和其後的評分分佈是否不同\n"
   ]
  },
  {
   "cell_type": "markdown",
   "metadata": {},
   "source": [
    "# Contents\n",
    "-----\n",
    "- Data Preprocessing\n",
    "    - 使用資料來源介紹\n",
    "    - 整理出個別電影的基本資料\n",
    "    - 整理評分資料，定義分類目標\n",
    "    - 整理出建模用資料表\n",
    "- EDA\n",
    "- Modeling & Insights"
   ]
  },
  {
   "cell_type": "code",
   "execution_count": 1,
   "metadata": {},
   "outputs": [],
   "source": [
    "import pandas as pd\n",
    "pd.set_option('display.float_format', lambda x: '%.3f' % x)\n",
    "pd.set_option('display.max_columns', 40)\n",
    "from datetime import datetime\n",
    "import numpy as np\n",
    "import seaborn as sns\n",
    "import matplotlib.pyplot as plt\n",
    "%matplotlib inline"
   ]
  },
  {
   "cell_type": "markdown",
   "metadata": {},
   "source": [
    "# Data Preprocessing\n",
    "------\n",
    "## 使用資料來源介紹\n",
    "- [MovieLens 20M Dataset](https://grouplens.org/datasets/movielens/20m/):內含14萬使用者於2.7萬部電影的評分與貼標，共2000萬評分人次，詳細內容如 Readme。\n",
    "- [TMDB API](https://www.themoviedb.org/documentation/api):由於 MovieLens 資料集僅記載各電影發行年份，若要分析發行初期的評價和初期過後的評價行為，我從 TMDB 下載確切的電影發行日期，也順便抓取其他電影相關資料，包含電影的發行國家、公司、預算，猜想他們可能是潛在影響發行初期與初期過後評價不同的因素。\n"
   ]
  },
  {
   "cell_type": "markdown",
   "metadata": {},
   "source": [
    "## 整理出個別電影的基本資料\n",
    "- step1 使用 TMDB API 下載電影的發行日期、預算、電影公司、國家，存為`movie_meta_from_TMDB.csv`\n",
    "- step2 `movies.csv`中紀錄個別電影的名稱、類別，將兩個資料表 inner join命名為`movie_meta.csv`\n",
    "- step3 放棄在TMDB未記載發行日期的電影\n",
    "- step4 篩選發行期間為1998~2015的電影 (根據維基百科 MovieLens 1997 年才上線，早於此日期發行的電影資料內便沒有記載發行初期的評分行為；相反地資料集只記載到2015年的使用者評分，2015之後發行的電影沒有記載發行期過後的長期評分行為)"
   ]
  },
  {
   "cell_type": "code",
   "execution_count": 2,
   "metadata": {},
   "outputs": [],
   "source": [
    "def getDetailFromTMDB(tmdbid):\n",
    "    import http.client\n",
    "    import json\n",
    "    Api_key = '6b8989c6a1cd059cab1c483679040253'\n",
    "    conn.request(\"GET\", \"/3/movie/\"+str(int(tmdbid))+\"?language=en-US&\"+\"api_key=\"+Api_key, payload)\n",
    "    res = conn.getresponse()\n",
    "    data = res.read().decode(\"utf-8\")\n",
    "    js = json.loads(data)\n",
    "    try:\n",
    "        company = js['production_companies'][0]['name']\n",
    "    except:\n",
    "        company = None\n",
    "    try:\n",
    "        country = js['production_countries'][0]['iso_3166_1']\n",
    "    except:\n",
    "        country = None\n",
    "    try:\n",
    "        title = js['title']\n",
    "    except:\n",
    "        title = None\n",
    "    try:\n",
    "        budget = js['budget']\n",
    "    except:\n",
    "        budget = None\n",
    "    try:\n",
    "        release_date = js['release_date']\n",
    "    except:\n",
    "        release_date = None\n",
    "    return pd.Series({'tmdbId':tmdbid,'title':title,'company':company,'country':country,'budget':budget,'release_date':release_date})"
   ]
  },
  {
   "cell_type": "code",
   "execution_count": 271,
   "metadata": {},
   "outputs": [],
   "source": [
    "#step1 Fetch movie meta data from TMDB (100 movies/batch) and write to movie_meta_from_TMDB.csv\n",
    "link = pd.read_csv(\"./links.csv\")\n",
    "link = link[link['tmdbId'].notnull()]\n",
    "for i in range(0,len(link),100):\n",
    "    conn = http.client.HTTPSConnection(\"api.themoviedb.org\")\n",
    "    payload = \"{}\"\n",
    "    movie_meta_from_TMDB = link['tmdbId'][i:i+100].apply(getDetailFromTMDB)\n",
    "    with open('movie_meta_from_TMDB.csv', 'a') as f:\n",
    "        movie_meta_from_TMDB.to_csv(f, header=False)"
   ]
  },
  {
   "cell_type": "code",
   "execution_count": 4,
   "metadata": {},
   "outputs": [],
   "source": [
    "# One hot encode genres data for each movie from movies.csv\n",
    "movies = pd.read_csv(\"./movies.csv\")\n",
    "genres_list = ['Action','Adventure','Animation','Children','Comedy','Crime','Documentary','Drama',\n",
    "                'Fantasy','Film-Noir','Horror','Musical','Mystery','Romance','Sci-Fi','Thriller',\n",
    "                'War','Western']\n",
    "movies = pd.concat([movies, movies['genres'].apply(lambda x: pd.Series([i in x for i in genres_list],index=genres_list))], axis=1)"
   ]
  },
  {
   "cell_type": "code",
   "execution_count": 5,
   "metadata": {},
   "outputs": [],
   "source": [
    "#step2 Merge meta data from TMDB\n",
    "movie_meta = pd.read_csv(\"./movie_meta_from_TMDB.csv\",names=['tmdbId','title','company','country','budget','release_date'],encoding='utf-8')\n",
    "movie_meta = pd.merge(link,movie_meta,on='tmdbId',how='inner')\n",
    "movie_meta = pd.merge(movie_meta,movies.drop(['title','genres'],axis = 1),on='movieId',how='inner')\n",
    "movie_meta.drop(['imdbId','tmdbId'],axis = 1,inplace=True)\n",
    "movie_meta['release_date']=pd.to_datetime(movie_meta['release_date'])"
   ]
  },
  {
   "cell_type": "code",
   "execution_count": 6,
   "metadata": {},
   "outputs": [],
   "source": [
    "#step3 Drop rows that has no data in tmdb\n",
    "movie_meta = movie_meta[movie_meta['title'].notnull()] \n",
    "movie_meta = movie_meta[movie_meta['release_date'].notnull()] \n",
    "#step4 Exclude the records with (1)movie released before movielens went online(1997) (2)released at the end of data collecting\n",
    "movie_meta = movie_meta[movie_meta['release_date'].apply(lambda x:x.year>=1998 and x.year<2015)]"
   ]
  },
  {
   "cell_type": "code",
   "execution_count": 8,
   "metadata": {},
   "outputs": [],
   "source": [
    "movie_meta.head()\n",
    "movie_meta.to_csv(\"movie_meta.csv\",index = False)"
   ]
  },
  {
   "cell_type": "markdown",
   "metadata": {},
   "source": [
    "## 整理評分資料，定義分類目標\n",
    "- step 1 `ratings.csv` 記錄各使用者對各電影的評分及其評分時間。對照前面整理好的`movie_meta.csv`中的發行時間，計算出各次評分晚於電影發行日多少天。\n",
    "- step 2 我們定義發行後14天內為發行初期，將資料拆成「各電影於發行初期的評分」和「各電影於發行初期過後的評分」兩部份\n",
    "- step 3 篩選出兩部份皆有達 30個評論數的電影\n",
    "- step 4 檢定發現多數電影的評分資料非常態分佈，因此**以 Mann–Whitney U test 檢定發行初期和發行初期過後的評分分佈是否相同，作為本次的分類目標**"
   ]
  },
  {
   "cell_type": "code",
   "execution_count": 25,
   "metadata": {},
   "outputs": [],
   "source": [
    "ratings = pd.read_csv(\"./ratings.csv\")\n",
    "movie_meta = pd.read_csv(\"./movie_meta.csv\")"
   ]
  },
  {
   "cell_type": "code",
   "execution_count": 26,
   "metadata": {},
   "outputs": [
    {
     "data": {
      "text/html": [
       "<div>\n",
       "<style scoped>\n",
       "    .dataframe tbody tr th:only-of-type {\n",
       "        vertical-align: middle;\n",
       "    }\n",
       "\n",
       "    .dataframe tbody tr th {\n",
       "        vertical-align: top;\n",
       "    }\n",
       "\n",
       "    .dataframe thead th {\n",
       "        text-align: right;\n",
       "    }\n",
       "</style>\n",
       "<table border=\"1\" class=\"dataframe\">\n",
       "  <thead>\n",
       "    <tr style=\"text-align: right;\">\n",
       "      <th></th>\n",
       "      <th>userId</th>\n",
       "      <th>movieId</th>\n",
       "      <th>rating</th>\n",
       "      <th>timestamp</th>\n",
       "    </tr>\n",
       "  </thead>\n",
       "  <tbody>\n",
       "    <tr>\n",
       "      <th>0</th>\n",
       "      <td>1</td>\n",
       "      <td>2</td>\n",
       "      <td>3.500</td>\n",
       "      <td>1112486027</td>\n",
       "    </tr>\n",
       "    <tr>\n",
       "      <th>1</th>\n",
       "      <td>1</td>\n",
       "      <td>29</td>\n",
       "      <td>3.500</td>\n",
       "      <td>1112484676</td>\n",
       "    </tr>\n",
       "    <tr>\n",
       "      <th>2</th>\n",
       "      <td>1</td>\n",
       "      <td>32</td>\n",
       "      <td>3.500</td>\n",
       "      <td>1112484819</td>\n",
       "    </tr>\n",
       "    <tr>\n",
       "      <th>3</th>\n",
       "      <td>1</td>\n",
       "      <td>47</td>\n",
       "      <td>3.500</td>\n",
       "      <td>1112484727</td>\n",
       "    </tr>\n",
       "    <tr>\n",
       "      <th>4</th>\n",
       "      <td>1</td>\n",
       "      <td>50</td>\n",
       "      <td>3.500</td>\n",
       "      <td>1112484580</td>\n",
       "    </tr>\n",
       "  </tbody>\n",
       "</table>\n",
       "</div>"
      ],
      "text/plain": [
       "   userId  movieId  rating   timestamp\n",
       "0       1        2   3.500  1112486027\n",
       "1       1       29   3.500  1112484676\n",
       "2       1       32   3.500  1112484819\n",
       "3       1       47   3.500  1112484727\n",
       "4       1       50   3.500  1112484580"
      ]
     },
     "execution_count": 26,
     "metadata": {},
     "output_type": "execute_result"
    }
   ],
   "source": [
    "ratings.head()"
   ]
  },
  {
   "cell_type": "code",
   "execution_count": 27,
   "metadata": {},
   "outputs": [],
   "source": [
    "# step1\n",
    "ratings['rating_date'] = pd.to_datetime(ratings['timestamp'], unit='s').dt.floor('d')\n",
    "ratings = pd.merge(ratings,movie_meta.loc[:,['movieId','release_date']],how = 'inner',on = 'movieId')\n",
    "ratings['release_date'] = pd.to_datetime(ratings['release_date'])\n",
    "ratings.drop(['timestamp'],axis = 1,inplace = True)\n",
    "ratings['days_rating_time_from_release'] = (ratings['rating_date'] - ratings['release_date']).apply(lambda x:x.days)\n",
    "#ratings.to_csv('ratings_with_release_date.csv',index = False)"
   ]
  },
  {
   "cell_type": "code",
   "execution_count": 28,
   "metadata": {},
   "outputs": [],
   "source": [
    "# step2\n",
    "compaign_period = 14\n",
    "campaign_rating = ratings[ratings['days_rating_time_from_release']<=compaign_period ]\n",
    "aftercampaign_rating = ratings[ratings['days_rating_time_from_release']>compaign_period ]"
   ]
  },
  {
   "cell_type": "code",
   "execution_count": 29,
   "metadata": {},
   "outputs": [],
   "source": [
    "# step3\n",
    "enough_rating_number = 30\n",
    "movie_rating_count = pd.merge(pd.DataFrame(campaign_rating.groupby('movieId')['userId'].count()),pd.DataFrame(aftercampaign_rating.groupby('movieId')['userId'].count()), left_index=True, right_index=True)\n",
    "movieId_list_enough_rating = movie_rating_count[(movie_rating_count['userId_x']>enough_rating_number) & (movie_rating_count['userId_y']>enough_rating_number)].index.values"
   ]
  },
  {
   "cell_type": "code",
   "execution_count": 30,
   "metadata": {},
   "outputs": [],
   "source": [
    "# testing functions that used instep4\n",
    "def same_var_test(x,y):\n",
    "    #https://docs.scipy.org/doc/scipy-0.14.0/reference/generated/scipy.stats.levene.html\n",
    "    # levene is from not normal dist\n",
    "    # H0: same var\n",
    "    from scipy.stats import levene\n",
    "    stat, p = levene(x,y)\n",
    "    alpha = 0.05\n",
    "    if p < alpha:\n",
    "        return False\n",
    "    else:\n",
    "        return True    \n",
    "def normality_test(data):\n",
    "    #https://docs.scipy.org/doc/scipy/reference/generated/scipy.stats.normaltest.html\n",
    "    # H0: normal\n",
    "    from scipy.stats import normaltest\n",
    "    stat, p = normaltest(data)\n",
    "    alpha = 0.05\n",
    "    if p < alpha:\n",
    "        return False\n",
    "    else:\n",
    "        return True\n",
    "def same_dist_test(x,y):\n",
    "    #Mann–Whitney U test: test whether not normal samples from same distribution\n",
    "    # H0: sample dist\n",
    "    #https://en.wikipedia.org/wiki/Mann%E2%80%93Whitney_U_test\n",
    "    #https://docs.scipy.org/doc/scipy/reference/generated/scipy.stats.mannwhitneyu.html#scipy.stats.mannwhitneyu\n",
    "    from scipy.stats import mannwhitneyu\n",
    "    stat, p = mannwhitneyu(x,y)\n",
    "    alpha = 0.05\n",
    "    if p < alpha:\n",
    "        return False\n",
    "    else:\n",
    "        return True"
   ]
  },
  {
   "cell_type": "code",
   "execution_count": 31,
   "metadata": {},
   "outputs": [],
   "source": [
    "# step4\n",
    "test_result = pd.DataFrame(movieId_list_enough_rating,columns=['movieId'])\n",
    "test_result['total_normality'] = [normality_test(ratings[ratings['movieId']==i]['rating']) for i in movieId_list_enough_rating]\n",
    "test_result['campaign_normality'] = [normality_test(campaign_rating[campaign_rating['movieId']==i]['rating']) for i in movieId_list_enough_rating]\n",
    "test_result['aftercampaign_normality'] = [normality_test(aftercampaign_rating[aftercampaign_rating['movieId']==i]['rating']) for i in movieId_list_enough_rating]\n",
    "test_result['equalvar'] = [same_var_test(campaign_rating[campaign_rating['movieId']==i]['rating'],aftercampaign_rating[aftercampaign_rating['movieId']==i]['rating']) for i in movieId_list_enough_rating]\n",
    "test_result['same_dist'] = [same_dist_test(campaign_rating[campaign_rating['movieId']==i]['rating'],aftercampaign_rating[aftercampaign_rating['movieId']==i]['rating']) for i in movieId_list_enough_rating]"
   ]
  },
  {
   "cell_type": "code",
   "execution_count": 32,
   "metadata": {},
   "outputs": [],
   "source": [
    "test_result.head()\n",
    "test_result.to_csv(\"./test_result.csv\")"
   ]
  },
  {
   "cell_type": "markdown",
   "metadata": {},
   "source": [
    "## 整理出建模用資料表\n",
    "- step1 將`movie_meta.csv`和`test_result.csv`結合，我們的目標就是以電影的基本資料來嘗試分類`same_dist`\n",
    "- step2 將發行日期的發行年份、月份抽出為分析變數。\n",
    "- step3 依照過往[影評分析經驗](https://www.quora.com/What-are-considered-the-peak-seasons-for-movie-releases-in-theaters)，每年電影有兩個熱期，分別是針對奧斯卡頒獎的年底三個月和暑假初期的7月，所以我們製造`oscar_season`和`blockbuster_season`兩個變數"
   ]
  },
  {
   "cell_type": "code",
   "execution_count": 33,
   "metadata": {},
   "outputs": [],
   "source": [
    "# step1\n",
    "movie_meta = pd.read_csv(\"./movie_meta.csv\")\n",
    "test_result = pd.read_csv(\"./test_result.csv\")\n",
    "movie_final = pd.merge(movie_meta,test_result.loc[:,['movieId','same_dist']],how='inner',on= 'movieId')"
   ]
  },
  {
   "cell_type": "code",
   "execution_count": 34,
   "metadata": {},
   "outputs": [],
   "source": [
    "# step2\n",
    "movie_final['release_date'] = pd.to_datetime(movie_final['release_date'])\n",
    "movie_final['release_year'] = movie_final['release_date'].apply(lambda x: x.year)\n",
    "movie_final['release_month'] = movie_final['release_date'].apply(lambda x: x.month)\n",
    "movie_final['blockbuster_season'] = movie_final['release_date'].apply(lambda x: x.month in [7])\n",
    "# step3\n",
    "movie_final['oscar_season'] = movie_final['release_date'].apply(lambda x: x.month in [10,11,12])\n",
    "movie_final = movie_final.drop(['movieId','title','release_date'],axis = 1)"
   ]
  },
  {
   "cell_type": "code",
   "execution_count": 35,
   "metadata": {},
   "outputs": [
    {
     "data": {
      "text/html": [
       "<div>\n",
       "<style scoped>\n",
       "    .dataframe tbody tr th:only-of-type {\n",
       "        vertical-align: middle;\n",
       "    }\n",
       "\n",
       "    .dataframe tbody tr th {\n",
       "        vertical-align: top;\n",
       "    }\n",
       "\n",
       "    .dataframe thead th {\n",
       "        text-align: right;\n",
       "    }\n",
       "</style>\n",
       "<table border=\"1\" class=\"dataframe\">\n",
       "  <thead>\n",
       "    <tr style=\"text-align: right;\">\n",
       "      <th></th>\n",
       "      <th>company</th>\n",
       "      <th>country</th>\n",
       "      <th>budget</th>\n",
       "      <th>Action</th>\n",
       "      <th>Adventure</th>\n",
       "      <th>Animation</th>\n",
       "      <th>Children</th>\n",
       "      <th>Comedy</th>\n",
       "      <th>Crime</th>\n",
       "      <th>Documentary</th>\n",
       "      <th>Drama</th>\n",
       "      <th>Fantasy</th>\n",
       "      <th>Film-Noir</th>\n",
       "      <th>Horror</th>\n",
       "      <th>Musical</th>\n",
       "      <th>Mystery</th>\n",
       "      <th>Romance</th>\n",
       "      <th>Sci-Fi</th>\n",
       "      <th>Thriller</th>\n",
       "      <th>War</th>\n",
       "      <th>Western</th>\n",
       "      <th>same_dist</th>\n",
       "      <th>release_year</th>\n",
       "      <th>release_month</th>\n",
       "      <th>blockbuster_season</th>\n",
       "      <th>oscar_season</th>\n",
       "    </tr>\n",
       "  </thead>\n",
       "  <tbody>\n",
       "    <tr>\n",
       "      <th>0</th>\n",
       "      <td>Paramount</td>\n",
       "      <td>US</td>\n",
       "      <td>60000000.000</td>\n",
       "      <td>False</td>\n",
       "      <td>False</td>\n",
       "      <td>False</td>\n",
       "      <td>False</td>\n",
       "      <td>True</td>\n",
       "      <td>False</td>\n",
       "      <td>False</td>\n",
       "      <td>True</td>\n",
       "      <td>False</td>\n",
       "      <td>False</td>\n",
       "      <td>False</td>\n",
       "      <td>False</td>\n",
       "      <td>False</td>\n",
       "      <td>False</td>\n",
       "      <td>True</td>\n",
       "      <td>False</td>\n",
       "      <td>False</td>\n",
       "      <td>False</td>\n",
       "      <td>True</td>\n",
       "      <td>1998</td>\n",
       "      <td>6</td>\n",
       "      <td>False</td>\n",
       "      <td>False</td>\n",
       "    </tr>\n",
       "    <tr>\n",
       "      <th>1</th>\n",
       "      <td>Touchstone Pictures</td>\n",
       "      <td>US</td>\n",
       "      <td>140000000.000</td>\n",
       "      <td>True</td>\n",
       "      <td>False</td>\n",
       "      <td>False</td>\n",
       "      <td>False</td>\n",
       "      <td>False</td>\n",
       "      <td>False</td>\n",
       "      <td>False</td>\n",
       "      <td>False</td>\n",
       "      <td>False</td>\n",
       "      <td>False</td>\n",
       "      <td>False</td>\n",
       "      <td>False</td>\n",
       "      <td>False</td>\n",
       "      <td>True</td>\n",
       "      <td>True</td>\n",
       "      <td>True</td>\n",
       "      <td>False</td>\n",
       "      <td>False</td>\n",
       "      <td>False</td>\n",
       "      <td>1998</td>\n",
       "      <td>7</td>\n",
       "      <td>True</td>\n",
       "      <td>False</td>\n",
       "    </tr>\n",
       "    <tr>\n",
       "      <th>2</th>\n",
       "      <td>Silver Pictures</td>\n",
       "      <td>US</td>\n",
       "      <td>140000000.000</td>\n",
       "      <td>True</td>\n",
       "      <td>False</td>\n",
       "      <td>False</td>\n",
       "      <td>False</td>\n",
       "      <td>True</td>\n",
       "      <td>True</td>\n",
       "      <td>False</td>\n",
       "      <td>False</td>\n",
       "      <td>False</td>\n",
       "      <td>False</td>\n",
       "      <td>False</td>\n",
       "      <td>False</td>\n",
       "      <td>False</td>\n",
       "      <td>False</td>\n",
       "      <td>False</td>\n",
       "      <td>True</td>\n",
       "      <td>False</td>\n",
       "      <td>False</td>\n",
       "      <td>False</td>\n",
       "      <td>1998</td>\n",
       "      <td>7</td>\n",
       "      <td>True</td>\n",
       "      <td>False</td>\n",
       "    </tr>\n",
       "    <tr>\n",
       "      <th>3</th>\n",
       "      <td>Amblin Entertainment</td>\n",
       "      <td>US</td>\n",
       "      <td>40000000.000</td>\n",
       "      <td>False</td>\n",
       "      <td>False</td>\n",
       "      <td>True</td>\n",
       "      <td>True</td>\n",
       "      <td>False</td>\n",
       "      <td>False</td>\n",
       "      <td>False</td>\n",
       "      <td>False</td>\n",
       "      <td>True</td>\n",
       "      <td>False</td>\n",
       "      <td>False</td>\n",
       "      <td>False</td>\n",
       "      <td>False</td>\n",
       "      <td>False</td>\n",
       "      <td>False</td>\n",
       "      <td>False</td>\n",
       "      <td>True</td>\n",
       "      <td>False</td>\n",
       "      <td>True</td>\n",
       "      <td>1998</td>\n",
       "      <td>7</td>\n",
       "      <td>True</td>\n",
       "      <td>False</td>\n",
       "    </tr>\n",
       "    <tr>\n",
       "      <th>4</th>\n",
       "      <td>20th Century Fox</td>\n",
       "      <td>US</td>\n",
       "      <td>23000000.000</td>\n",
       "      <td>False</td>\n",
       "      <td>False</td>\n",
       "      <td>False</td>\n",
       "      <td>False</td>\n",
       "      <td>True</td>\n",
       "      <td>False</td>\n",
       "      <td>False</td>\n",
       "      <td>False</td>\n",
       "      <td>False</td>\n",
       "      <td>False</td>\n",
       "      <td>False</td>\n",
       "      <td>False</td>\n",
       "      <td>False</td>\n",
       "      <td>True</td>\n",
       "      <td>False</td>\n",
       "      <td>False</td>\n",
       "      <td>False</td>\n",
       "      <td>False</td>\n",
       "      <td>False</td>\n",
       "      <td>1998</td>\n",
       "      <td>7</td>\n",
       "      <td>True</td>\n",
       "      <td>False</td>\n",
       "    </tr>\n",
       "  </tbody>\n",
       "</table>\n",
       "</div>"
      ],
      "text/plain": [
       "                company country        budget  Action  Adventure  Animation  \\\n",
       "0             Paramount      US  60000000.000   False      False      False   \n",
       "1   Touchstone Pictures      US 140000000.000    True      False      False   \n",
       "2       Silver Pictures      US 140000000.000    True      False      False   \n",
       "3  Amblin Entertainment      US  40000000.000   False      False       True   \n",
       "4      20th Century Fox      US  23000000.000   False      False      False   \n",
       "\n",
       "   Children  Comedy  Crime  Documentary  Drama  Fantasy  Film-Noir  Horror  \\\n",
       "0     False    True  False        False   True    False      False   False   \n",
       "1     False   False  False        False  False    False      False   False   \n",
       "2     False    True   True        False  False    False      False   False   \n",
       "3      True   False  False        False  False     True      False   False   \n",
       "4     False    True  False        False  False    False      False   False   \n",
       "\n",
       "   Musical  Mystery  Romance  Sci-Fi  Thriller    War  Western  same_dist  \\\n",
       "0    False    False    False    True     False  False    False       True   \n",
       "1    False    False     True    True      True  False    False      False   \n",
       "2    False    False    False   False      True  False    False      False   \n",
       "3    False    False    False   False     False   True    False       True   \n",
       "4    False    False     True   False     False  False    False      False   \n",
       "\n",
       "   release_year  release_month  blockbuster_season  oscar_season  \n",
       "0          1998              6               False         False  \n",
       "1          1998              7                True         False  \n",
       "2          1998              7                True         False  \n",
       "3          1998              7                True         False  \n",
       "4          1998              7                True         False  "
      ]
     },
     "execution_count": 35,
     "metadata": {},
     "output_type": "execute_result"
    }
   ],
   "source": [
    "movie_final.head()"
   ]
  },
  {
   "cell_type": "markdown",
   "metadata": {},
   "source": [
    "# EDA\n",
    "避免太多圖片佔版面，這裡以文字敘述為主，僅放置幾個重要的圖表\n",
    "- 分類目標`same_dist`：兩個類別的數量還算平均{0:355, 1:266}\n",
    "- (Fig1)評分在發行初期和發行初期過後分佈不同，以 Star Wars: Episode I - The Phantom Menace 為例：發行初期高分明顯較多，初期過後則成類似鍾型分佈\n",
    "- (Fig2)評分在發行初期和發行初期過後分佈相似，以 The Truman Show 為例：發行初期和初期過後低分都很少，高分部分把初期過後的.5部分疊加起來可以發現分佈是相似的\n",
    "- (Fig3)目標變數和發行年份也有關，2007年以後的電影發行初期和發行初期過後的評分分佈相似的比例明顯升高\n",
    "- 單一個別電影類型和目標變數無明顯關係\n",
    "- 月份和目標變數有點關係，但我們生成的`oscar_season`和`blockbuster_season`和目標變數無明顯關係"
   ]
  },
  {
   "cell_type": "code",
   "execution_count": 36,
   "metadata": {},
   "outputs": [
    {
     "data": {
      "text/plain": [
       "<matplotlib.legend.Legend at 0x118ebff98>"
      ]
     },
     "execution_count": 36,
     "metadata": {},
     "output_type": "execute_result"
    },
    {
     "data": {
      "image/png": "[encoded data removed]",
      "text/plain": [
       "<matplotlib.figure.Figure at 0x118e82358>"
      ]
     },
     "metadata": {},
     "output_type": "display_data"
    }
   ],
   "source": [
    "# Fig1 same_dist = False\n",
    "plt.hist([campaign_rating[campaign_rating['movieId']==2628]['rating'],aftercampaign_rating[aftercampaign_rating['movieId']==2628]['rating']],color = ['red','green'],normed=True)\n",
    "plt.title(\"Star Wars: Episode I - The Phantom Menace\")\n",
    "plt.legend([\"Campaign\",\"After campaign\"])"
   ]
  },
  {
   "cell_type": "code",
   "execution_count": 37,
   "metadata": {},
   "outputs": [
    {
     "data": {
      "text/plain": [
       "<matplotlib.legend.Legend at 0x118eb0c88>"
      ]
     },
     "execution_count": 37,
     "metadata": {},
     "output_type": "execute_result"
    },
    {
     "data": {
      "image/png": "[encoded data removed]",
      "text/plain": [
       "<matplotlib.figure.Figure at 0x118ebf208>"
      ]
     },
     "metadata": {},
     "output_type": "display_data"
    }
   ],
   "source": [
    "# Fig2 same_dist = True\n",
    "plt.hist([campaign_rating[campaign_rating['movieId']==1682]['rating'],aftercampaign_rating[aftercampaign_rating['movieId']==1682]['rating']],color = ['red','green'],normed=True)\n",
    "plt.title(\"The Truman Show\")\n",
    "plt.legend([\"Campaign\",\"After campaign\"])\n"
   ]
  },
  {
   "cell_type": "code",
   "execution_count": 38,
   "metadata": {},
   "outputs": [
    {
     "data": {
      "text/plain": [
       "<matplotlib.axes._subplots.AxesSubplot at 0x1191866d8>"
      ]
     },
     "execution_count": 38,
     "metadata": {},
     "output_type": "execute_result"
    },
    {
     "data": {
      "image/png": "[encoded data removed]",
      "text/plain": [
       "<matplotlib.figure.Figure at 0x118eb0f28>"
      ]
     },
     "metadata": {},
     "output_type": "display_data"
    }
   ],
   "source": [
    "# Fig 3 Target - release_year\n",
    "plt.figure(figsize=(16, 6))\n",
    "sns.countplot(x = 'release_year',hue='same_dist',data = movie_final)"
   ]
  },
  {
   "cell_type": "markdown",
   "metadata": {},
   "source": [
    "# Modeling & Insights\n",
    "-------\n",
    "以 RandomForest 和 XGBoost 建模，嘗試各種參數組合\n",
    "- 電影公司、預算、發行年份和月份為較重要的變數，電影類型預測能力不佳\n",
    "- 模型準確率(0.7)比亂猜準確率(0.55)好一些\n",
    "- Confusion matrix 顯示模型比較擅於辨認不相似的分數分佈，正好符合本次分析目標主要關注怎樣的電影會有分數分佈不相似的情形。\n",
    "- Discussion:預測變數不應該放發行年份？新的電影的發行年不可能是過去的年份，因此用年份建出來的模型沒辦法實際應用在日後新發行的電影，我認同有這樣的疑慮，不過有些電影係屬重製、重拍，所以登記的(原版)發行年也可能是過去年份，例如星際大戰、一個巨星的誕生，依此想法可將發行年份結合其他資訊轉換新的變數，或由使用者貼標資料來補足。\n",
    "- Future Work:本次分析因時間因素，沒做到使用者貼標資料，「貼標數量」、「貼標內容」、「貼標時間」、「各標籤重要度」也可能有助於本次的分析需求"
   ]
  },
  {
   "cell_type": "code",
   "execution_count": 47,
   "metadata": {},
   "outputs": [],
   "source": [
    "from sklearn.preprocessing import LabelEncoder\n",
    "from sklearn.model_selection import train_test_split\n",
    "from sklearn.model_selection import GridSearchCV\n",
    "from sklearn.metrics import classification_report,confusion_matrix"
   ]
  },
  {
   "cell_type": "code",
   "execution_count": 48,
   "metadata": {},
   "outputs": [],
   "source": [
    "for col in [i for i in movie_final.columns if i not in ['budget','release_year','release_month']]:\n",
    "    movie_final[col] = LabelEncoder().fit_transform(movie_final[col].fillna('None'))\n",
    "x = movie_final.drop(['same_dist'],axis = 1)\n",
    "y = movie_final['same_dist']\n",
    "x_train, x_test, y_train, y_test = train_test_split(x,y , test_size=0.1)"
   ]
  },
  {
   "cell_type": "code",
   "execution_count": 49,
   "metadata": {},
   "outputs": [
    {
     "name": "stdout",
     "output_type": "stream",
     "text": [
      "Fitting 3 folds for each of 18 candidates, totalling 54 fits\n",
      "{'max_depth': 2, 'n_estimators': 10}\n"
     ]
    },
    {
     "name": "stderr",
     "output_type": "stream",
     "text": [
      "[Parallel(n_jobs=1)]: Done  54 out of  54 | elapsed:   26.7s finished\n"
     ]
    }
   ],
   "source": [
    "# RandomForest\n",
    "from sklearn.ensemble import RandomForestClassifier\n",
    "params = {'n_estimators':[5,10,100,300,500,800],'max_depth':[2,3,4]}\n",
    "grid = GridSearchCV(RandomForestClassifier(),params,refit=True,verbose=1,error_score='f1')\n",
    "grid.fit(x_train,y_train)\n",
    "print(grid.best_params_)\n",
    "rf_grid_predictions = grid.predict(x_test)"
   ]
  },
  {
   "cell_type": "code",
   "execution_count": 50,
   "metadata": {
    "scrolled": true
   },
   "outputs": [
    {
     "name": "stdout",
     "output_type": "stream",
     "text": [
      "             precision    recall  f1-score   support\n",
      "\n",
      "          0       0.65      0.88      0.75        32\n",
      "          1       0.73      0.42      0.54        26\n",
      "\n",
      "avg / total       0.69      0.67      0.65        58\n",
      "\n",
      "Acc = 0.6724137931034483\n"
     ]
    }
   ],
   "source": [
    "print(classification_report(y_test,rf_grid_predictions))\n",
    "print(\"Acc = \"+str(sum(y_test==rf_grid_predictions)/len(y_test)))"
   ]
  },
  {
   "cell_type": "code",
   "execution_count": 51,
   "metadata": {
    "scrolled": true
   },
   "outputs": [
    {
     "name": "stdout",
     "output_type": "stream",
     "text": [
      "feature_importances_\n"
     ]
    },
    {
     "data": {
      "text/html": [
       "<div>\n",
       "<style scoped>\n",
       "    .dataframe tbody tr th:only-of-type {\n",
       "        vertical-align: middle;\n",
       "    }\n",
       "\n",
       "    .dataframe tbody tr th {\n",
       "        vertical-align: top;\n",
       "    }\n",
       "\n",
       "    .dataframe thead th {\n",
       "        text-align: right;\n",
       "    }\n",
       "</style>\n",
       "<table border=\"1\" class=\"dataframe\">\n",
       "  <thead>\n",
       "    <tr style=\"text-align: right;\">\n",
       "      <th></th>\n",
       "      <th>0</th>\n",
       "      <th>1</th>\n",
       "      <th>2</th>\n",
       "      <th>3</th>\n",
       "      <th>4</th>\n",
       "      <th>5</th>\n",
       "      <th>6</th>\n",
       "      <th>7</th>\n",
       "      <th>8</th>\n",
       "      <th>9</th>\n",
       "      <th>10</th>\n",
       "      <th>11</th>\n",
       "      <th>12</th>\n",
       "      <th>13</th>\n",
       "      <th>14</th>\n",
       "      <th>15</th>\n",
       "      <th>16</th>\n",
       "      <th>17</th>\n",
       "      <th>18</th>\n",
       "      <th>19</th>\n",
       "      <th>20</th>\n",
       "      <th>21</th>\n",
       "      <th>22</th>\n",
       "      <th>23</th>\n",
       "      <th>24</th>\n",
       "    </tr>\n",
       "  </thead>\n",
       "  <tbody>\n",
       "    <tr>\n",
       "      <th>0</th>\n",
       "      <td>company</td>\n",
       "      <td>country</td>\n",
       "      <td>budget</td>\n",
       "      <td>Action</td>\n",
       "      <td>Adventure</td>\n",
       "      <td>Animation</td>\n",
       "      <td>Children</td>\n",
       "      <td>Comedy</td>\n",
       "      <td>Crime</td>\n",
       "      <td>Documentary</td>\n",
       "      <td>Drama</td>\n",
       "      <td>Fantasy</td>\n",
       "      <td>Film-Noir</td>\n",
       "      <td>Horror</td>\n",
       "      <td>Musical</td>\n",
       "      <td>Mystery</td>\n",
       "      <td>Romance</td>\n",
       "      <td>Sci-Fi</td>\n",
       "      <td>Thriller</td>\n",
       "      <td>War</td>\n",
       "      <td>Western</td>\n",
       "      <td>release_year</td>\n",
       "      <td>release_month</td>\n",
       "      <td>blockbuster_season</td>\n",
       "      <td>oscar_season</td>\n",
       "    </tr>\n",
       "    <tr>\n",
       "      <th>1</th>\n",
       "      <td>0.000</td>\n",
       "      <td>0.045</td>\n",
       "      <td>0.227</td>\n",
       "      <td>0.000</td>\n",
       "      <td>0.000</td>\n",
       "      <td>0.000</td>\n",
       "      <td>0.000</td>\n",
       "      <td>0.015</td>\n",
       "      <td>0.042</td>\n",
       "      <td>0.000</td>\n",
       "      <td>0.016</td>\n",
       "      <td>0.000</td>\n",
       "      <td>0.045</td>\n",
       "      <td>0.013</td>\n",
       "      <td>0.000</td>\n",
       "      <td>0.000</td>\n",
       "      <td>0.000</td>\n",
       "      <td>0.000</td>\n",
       "      <td>0.007</td>\n",
       "      <td>0.048</td>\n",
       "      <td>0.037</td>\n",
       "      <td>0.280</td>\n",
       "      <td>0.165</td>\n",
       "      <td>0.000</td>\n",
       "      <td>0.061</td>\n",
       "    </tr>\n",
       "  </tbody>\n",
       "</table>\n",
       "</div>"
      ],
      "text/plain": [
       "        0        1       2       3          4          5         6       7   \\\n",
       "0  company  country  budget  Action  Adventure  Animation  Children  Comedy   \n",
       "1    0.000    0.045   0.227   0.000      0.000      0.000     0.000   0.015   \n",
       "\n",
       "      8            9      10       11         12      13       14       15  \\\n",
       "0  Crime  Documentary  Drama  Fantasy  Film-Noir  Horror  Musical  Mystery   \n",
       "1  0.042        0.000  0.016    0.000      0.045   0.013    0.000    0.000   \n",
       "\n",
       "        16      17        18    19       20            21             22  \\\n",
       "0  Romance  Sci-Fi  Thriller   War  Western  release_year  release_month   \n",
       "1    0.000   0.000     0.007 0.048    0.037         0.280          0.165   \n",
       "\n",
       "                   23            24  \n",
       "0  blockbuster_season  oscar_season  \n",
       "1               0.000         0.061  "
      ]
     },
     "execution_count": 51,
     "metadata": {},
     "output_type": "execute_result"
    }
   ],
   "source": [
    "print(\"feature_importances_\")\n",
    "pd.DataFrame([list(x.columns),list(grid.best_estimator_.feature_importances_)])"
   ]
  },
  {
   "cell_type": "code",
   "execution_count": 52,
   "metadata": {},
   "outputs": [
    {
     "name": "stdout",
     "output_type": "stream",
     "text": [
      "Fitting 3 folds for each of 45 candidates, totalling 135 fits\n",
      "{'learning_rate': 0.2, 'max_depth': 3, 'n_estimators': 100}\n"
     ]
    },
    {
     "name": "stderr",
     "output_type": "stream",
     "text": [
      "[Parallel(n_jobs=1)]: Done 135 out of 135 | elapsed:    8.0s finished\n"
     ]
    }
   ],
   "source": [
    "# xgboost\n",
    "from xgboost import XGBClassifier\n",
    "params = {'n_estimators': [50, 100, 200],'max_depth': [2,3,4],'learning_rate': [0.001, 0.01, 0.1, 0.2, 0.3]}\n",
    "\n",
    "grid = GridSearchCV(XGBClassifier(),params,refit=True,verbose=1,error_score='f1')\n",
    "grid.fit(x_train,y_train)\n",
    "print(grid.best_params_) \n",
    "xgb_grid_predictions = grid.predict(x_test)"
   ]
  },
  {
   "cell_type": "code",
   "execution_count": 53,
   "metadata": {
    "scrolled": true
   },
   "outputs": [
    {
     "name": "stdout",
     "output_type": "stream",
     "text": [
      "             precision    recall  f1-score   support\n",
      "\n",
      "          0       0.57      0.72      0.64        32\n",
      "          1       0.50      0.35      0.41        26\n",
      "\n",
      "avg / total       0.54      0.55      0.54        58\n",
      "\n",
      "Acc = 0.5517241379310345\n"
     ]
    }
   ],
   "source": [
    "print(classification_report(y_test,xgb_grid_predictions))\n",
    "print(\"Acc = \"+str(sum(y_test==xgb_grid_predictions)/len(y_test)))"
   ]
  },
  {
   "cell_type": "code",
   "execution_count": 54,
   "metadata": {
    "scrolled": true
   },
   "outputs": [
    {
     "name": "stdout",
     "output_type": "stream",
     "text": [
      "feature_importances_\n"
     ]
    },
    {
     "data": {
      "text/html": [
       "<div>\n",
       "<style scoped>\n",
       "    .dataframe tbody tr th:only-of-type {\n",
       "        vertical-align: middle;\n",
       "    }\n",
       "\n",
       "    .dataframe tbody tr th {\n",
       "        vertical-align: top;\n",
       "    }\n",
       "\n",
       "    .dataframe thead th {\n",
       "        text-align: right;\n",
       "    }\n",
       "</style>\n",
       "<table border=\"1\" class=\"dataframe\">\n",
       "  <thead>\n",
       "    <tr style=\"text-align: right;\">\n",
       "      <th></th>\n",
       "      <th>0</th>\n",
       "      <th>1</th>\n",
       "      <th>2</th>\n",
       "      <th>3</th>\n",
       "      <th>4</th>\n",
       "      <th>5</th>\n",
       "      <th>6</th>\n",
       "      <th>7</th>\n",
       "      <th>8</th>\n",
       "      <th>9</th>\n",
       "      <th>10</th>\n",
       "      <th>11</th>\n",
       "      <th>12</th>\n",
       "      <th>13</th>\n",
       "      <th>14</th>\n",
       "      <th>15</th>\n",
       "      <th>16</th>\n",
       "      <th>17</th>\n",
       "      <th>18</th>\n",
       "      <th>19</th>\n",
       "      <th>20</th>\n",
       "      <th>21</th>\n",
       "      <th>22</th>\n",
       "      <th>23</th>\n",
       "      <th>24</th>\n",
       "    </tr>\n",
       "  </thead>\n",
       "  <tbody>\n",
       "    <tr>\n",
       "      <th>0</th>\n",
       "      <td>company</td>\n",
       "      <td>country</td>\n",
       "      <td>budget</td>\n",
       "      <td>Action</td>\n",
       "      <td>Adventure</td>\n",
       "      <td>Animation</td>\n",
       "      <td>Children</td>\n",
       "      <td>Comedy</td>\n",
       "      <td>Crime</td>\n",
       "      <td>Documentary</td>\n",
       "      <td>Drama</td>\n",
       "      <td>Fantasy</td>\n",
       "      <td>Film-Noir</td>\n",
       "      <td>Horror</td>\n",
       "      <td>Musical</td>\n",
       "      <td>Mystery</td>\n",
       "      <td>Romance</td>\n",
       "      <td>Sci-Fi</td>\n",
       "      <td>Thriller</td>\n",
       "      <td>War</td>\n",
       "      <td>Western</td>\n",
       "      <td>release_year</td>\n",
       "      <td>release_month</td>\n",
       "      <td>blockbuster_season</td>\n",
       "      <td>oscar_season</td>\n",
       "    </tr>\n",
       "    <tr>\n",
       "      <th>1</th>\n",
       "      <td>0.271</td>\n",
       "      <td>0.061</td>\n",
       "      <td>0.221</td>\n",
       "      <td>0.024</td>\n",
       "      <td>0.021</td>\n",
       "      <td>0.016</td>\n",
       "      <td>0.013</td>\n",
       "      <td>0.018</td>\n",
       "      <td>0.006</td>\n",
       "      <td>0.000</td>\n",
       "      <td>0.026</td>\n",
       "      <td>0.005</td>\n",
       "      <td>0.000</td>\n",
       "      <td>0.006</td>\n",
       "      <td>0.000</td>\n",
       "      <td>0.019</td>\n",
       "      <td>0.014</td>\n",
       "      <td>0.024</td>\n",
       "      <td>0.019</td>\n",
       "      <td>0.002</td>\n",
       "      <td>0.005</td>\n",
       "      <td>0.122</td>\n",
       "      <td>0.098</td>\n",
       "      <td>0.008</td>\n",
       "      <td>0.000</td>\n",
       "    </tr>\n",
       "  </tbody>\n",
       "</table>\n",
       "</div>"
      ],
      "text/plain": [
       "        0        1       2       3          4          5         6       7   \\\n",
       "0  company  country  budget  Action  Adventure  Animation  Children  Comedy   \n",
       "1    0.271    0.061   0.221   0.024      0.021      0.016     0.013   0.018   \n",
       "\n",
       "      8            9      10       11         12      13       14       15  \\\n",
       "0  Crime  Documentary  Drama  Fantasy  Film-Noir  Horror  Musical  Mystery   \n",
       "1  0.006        0.000  0.026    0.005      0.000   0.006    0.000    0.019   \n",
       "\n",
       "        16      17        18    19       20            21             22  \\\n",
       "0  Romance  Sci-Fi  Thriller   War  Western  release_year  release_month   \n",
       "1    0.014   0.024     0.019 0.002    0.005         0.122          0.098   \n",
       "\n",
       "                   23            24  \n",
       "0  blockbuster_season  oscar_season  \n",
       "1               0.008         0.000  "
      ]
     },
     "execution_count": 54,
     "metadata": {},
     "output_type": "execute_result"
    }
   ],
   "source": [
    "print(\"feature_importances_\")\n",
    "pd.DataFrame([list(x.columns),list(grid.best_estimator_.feature_importances_)])"
   ]
  }
 ],
 "metadata": {
  "kernelspec": {
   "display_name": "Python 3",
   "language": "python",
   "name": "python3"
  },
  "language_info": {
   "codemirror_mode": {
    "name": "ipython",
    "version": 3
   },
   "file_extension": ".py",
   "mimetype": "text/x-python",
   "name": "python",
   "nbconvert_exporter": "python",
   "pygments_lexer": "ipython3",
   "version": "3.6.8"
  }
 },
 "nbformat": 4,
 "nbformat_minor": 2
}
